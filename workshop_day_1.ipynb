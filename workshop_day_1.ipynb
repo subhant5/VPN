{
  "nbformat": 4,
  "nbformat_minor": 0,
  "metadata": {
    "colab": {
      "name": "workshop day 1.ipynb",
      "provenance": [],
      "collapsed_sections": [],
      "authorship_tag": "ABX9TyNMvRxWHSCS0Ga5ZS5wO15l",
      "include_colab_link": true
    },
    "kernelspec": {
      "name": "python3",
      "display_name": "Python 3"
    },
    "language_info": {
      "name": "python"
    }
  },
  "cells": [
    {
      "cell_type": "markdown",
      "metadata": {
        "id": "view-in-github",
        "colab_type": "text"
      },
      "source": [
        "<a href=\"https://colab.research.google.com/github/subhant5/VPN/blob/main/workshop_day_1.ipynb\" target=\"_parent\"><img src=\"https://colab.research.google.com/assets/colab-badge.svg\" alt=\"Open In Colab\"/></a>"
      ]
    },
    {
      "cell_type": "code",
      "metadata": {
        "id": "jCv5yFKBdL8E"
      },
      "source": [
        "import tensorflow as tf\n",
        "from tensorflow import keras"
      ],
      "execution_count": 1,
      "outputs": []
    },
    {
      "cell_type": "code",
      "metadata": {
        "colab": {
          "base_uri": "https://localhost:8080/"
        },
        "id": "iVeLK8wsdi-K",
        "outputId": "8bad729a-ece2-493a-fb0b-b781a9c3076f"
      },
      "source": [
        "(x_train, y_train),(x_val,y_val) = keras.datasets.fashion_mnist.load_data()"
      ],
      "execution_count": 2,
      "outputs": [
        {
          "output_type": "stream",
          "text": [
            "Downloading data from https://storage.googleapis.com/tensorflow/tf-keras-datasets/train-labels-idx1-ubyte.gz\n",
            "32768/29515 [=================================] - 0s 0us/step\n",
            "40960/29515 [=========================================] - 0s 0us/step\n",
            "Downloading data from https://storage.googleapis.com/tensorflow/tf-keras-datasets/train-images-idx3-ubyte.gz\n",
            "26427392/26421880 [==============================] - 0s 0us/step\n",
            "26435584/26421880 [==============================] - 0s 0us/step\n",
            "Downloading data from https://storage.googleapis.com/tensorflow/tf-keras-datasets/t10k-labels-idx1-ubyte.gz\n",
            "16384/5148 [===============================================================================================] - 0s 0us/step\n",
            "Downloading data from https://storage.googleapis.com/tensorflow/tf-keras-datasets/t10k-images-idx3-ubyte.gz\n",
            "4423680/4422102 [==============================] - 0s 0us/step\n",
            "4431872/4422102 [==============================] - 0s 0us/step\n"
          ],
          "name": "stdout"
        }
      ]
    },
    {
      "cell_type": "code",
      "metadata": {
        "id": "sWAftasvfiCz"
      },
      "source": [
        "def preprocess(x,y):\n",
        "  x=tf.cast(x,tf.float32)/255.0\n",
        "  y=tf.cast(y,tf.int64)\n",
        "  return x,y\n",
        "\n",
        "def create_dataset(xs,ys,classes=10):\n",
        "  ys=tf.one_hot(ys,depth=10)\n",
        "  return tf.data.Dataset.from_tensor_slices((xs,ys)).map(preprocess).shuffle(len(ys)).batch(128)"
      ],
      "execution_count": 21,
      "outputs": []
    },
    {
      "cell_type": "code",
      "metadata": {
        "id": "UIZLuaH6iatb"
      },
      "source": [
        "train_dataset = create_dataset(x_train,y_train)\n",
        "val_dataset = create_dataset(x_val,y_val)"
      ],
      "execution_count": 22,
      "outputs": []
    },
    {
      "cell_type": "code",
      "metadata": {
        "id": "Ivv1izHrmgFS"
      },
      "source": [
        "model = keras.Sequential([\n",
        "        keras.layers.Reshape(target_shape=(28*28,), input_shape=(28,28)),\n",
        "        keras.layers.Dense(units=256, activation='relu'),\n",
        "        keras.layers.Dense(units=128 , activation='relu'),\n",
        "        keras.layers.Dense(units=10,activation='softmax')\n",
        "])"
      ],
      "execution_count": 11,
      "outputs": []
    },
    {
      "cell_type": "code",
      "metadata": {
        "colab": {
          "base_uri": "https://localhost:8080/"
        },
        "id": "RPcbFvMHs1up",
        "outputId": "36b79a93-638e-4340-940d-064f0a570ba0"
      },
      "source": [
        "train_dataset"
      ],
      "execution_count": 23,
      "outputs": [
        {
          "output_type": "execute_result",
          "data": {
            "text/plain": [
              "<BatchDataset shapes: ((None, 28, 28), (None, 10)), types: (tf.float32, tf.int64)>"
            ]
          },
          "metadata": {},
          "execution_count": 23
        }
      ]
    },
    {
      "cell_type": "code",
      "metadata": {
        "colab": {
          "base_uri": "https://localhost:8080/"
        },
        "id": "iKOfVpTSqDJU",
        "outputId": "2f683a0d-9e33-469f-a353-9f6e10d779e2"
      },
      "source": [
        "model.compile(optimizer='adam',loss=tf.losses.CategoricalCrossentropy(from_logits=True),metrics=['accuracy'])\n",
        "\n",
        "history = model.fit(train_dataset,epochs=10,validation_data=val_dataset,validation_steps=2)"
      ],
      "execution_count": 25,
      "outputs": [
        {
          "output_type": "stream",
          "text": [
            "Epoch 1/10\n"
          ],
          "name": "stdout"
        },
        {
          "output_type": "stream",
          "text": [
            "/usr/local/lib/python3.7/dist-packages/keras/backend.py:4847: UserWarning: \"`categorical_crossentropy` received `from_logits=True`, but the `output` argument was produced by a sigmoid or softmax activation and thus does not represent logits. Was this intended?\"\n",
            "  '\"`categorical_crossentropy` received `from_logits=True`, but '\n"
          ],
          "name": "stderr"
        },
        {
          "output_type": "stream",
          "text": [
            "469/469 [==============================] - 6s 9ms/step - loss: 0.3712 - accuracy: 0.8651 - val_loss: 0.3519 - val_accuracy: 0.8750\n",
            "Epoch 2/10\n",
            "469/469 [==============================] - 6s 8ms/step - loss: 0.3251 - accuracy: 0.8810 - val_loss: 0.3115 - val_accuracy: 0.8711\n",
            "Epoch 3/10\n",
            "469/469 [==============================] - 6s 9ms/step - loss: 0.3019 - accuracy: 0.8884 - val_loss: 0.3726 - val_accuracy: 0.8477\n",
            "Epoch 4/10\n",
            "469/469 [==============================] - 6s 9ms/step - loss: 0.2860 - accuracy: 0.8919 - val_loss: 0.3619 - val_accuracy: 0.8711\n",
            "Epoch 5/10\n",
            "469/469 [==============================] - 6s 9ms/step - loss: 0.2685 - accuracy: 0.8996 - val_loss: 0.3921 - val_accuracy: 0.8320\n",
            "Epoch 6/10\n",
            "469/469 [==============================] - 6s 9ms/step - loss: 0.2561 - accuracy: 0.9044 - val_loss: 0.3714 - val_accuracy: 0.8867\n",
            "Epoch 7/10\n",
            "469/469 [==============================] - 6s 9ms/step - loss: 0.2432 - accuracy: 0.9085 - val_loss: 0.5233 - val_accuracy: 0.8203\n",
            "Epoch 8/10\n",
            "469/469 [==============================] - 6s 9ms/step - loss: 0.2315 - accuracy: 0.9127 - val_loss: 0.4067 - val_accuracy: 0.8750\n",
            "Epoch 9/10\n",
            "469/469 [==============================] - 6s 9ms/step - loss: 0.2216 - accuracy: 0.9166 - val_loss: 0.3146 - val_accuracy: 0.9023\n",
            "Epoch 10/10\n",
            "469/469 [==============================] - 6s 9ms/step - loss: 0.2157 - accuracy: 0.9185 - val_loss: 0.2567 - val_accuracy: 0.8984\n"
          ],
          "name": "stdout"
        }
      ]
    },
    {
      "cell_type": "code",
      "metadata": {
        "colab": {
          "base_uri": "https://localhost:8080/"
        },
        "id": "BDaICySOzKnm",
        "outputId": "0399fea2-b1e3-4895-82f7-12da55d4ada0"
      },
      "source": [
        "x_val.shape"
      ],
      "execution_count": 33,
      "outputs": [
        {
          "output_type": "execute_result",
          "data": {
            "text/plain": [
              "(10000, 28, 28)"
            ]
          },
          "metadata": {},
          "execution_count": 33
        }
      ]
    },
    {
      "cell_type": "code",
      "metadata": {
        "id": "aVvZdjH2uJdd"
      },
      "source": [
        "pred = model.predict(np.expand_dims(x_val[12,:,:],0))"
      ],
      "execution_count": 36,
      "outputs": []
    },
    {
      "cell_type": "code",
      "metadata": {
        "colab": {
          "base_uri": "https://localhost:8080/"
        },
        "id": "SqCWwhZYwnia",
        "outputId": "54b8f9c6-92a3-4a37-e083-40abab12d2af"
      },
      "source": [
        "pred.shape"
      ],
      "execution_count": 27,
      "outputs": [
        {
          "output_type": "execute_result",
          "data": {
            "text/plain": [
              "(10000, 10)"
            ]
          },
          "metadata": {},
          "execution_count": 27
        }
      ]
    },
    {
      "cell_type": "code",
      "metadata": {
        "colab": {
          "base_uri": "https://localhost:8080/",
          "height": 283
        },
        "id": "zNIDL8zhxhTn",
        "outputId": "06071bc0-79bc-4c62-c15d-ab959ee66f38"
      },
      "source": [
        "plt.imshow(x_val[12,:,:])"
      ],
      "execution_count": 31,
      "outputs": [
        {
          "output_type": "execute_result",
          "data": {
            "text/plain": [
              "<matplotlib.image.AxesImage at 0x7f9e5e7402d0>"
            ]
          },
          "metadata": {},
          "execution_count": 31
        },
        {
          "output_type": "display_data",
          "data": {
            "image/png": "[encoded data removed]",
            "text/plain": [
              "<Figure size 432x288 with 1 Axes>"
            ]
          },
          "metadata": {
            "needs_background": "light"
          }
        }
      ]
    },
    {
      "cell_type": "code",
      "metadata": {
        "colab": {
          "base_uri": "https://localhost:8080/"
        },
        "id": "y04llRm6wucC",
        "outputId": "f6e2c723-bf9f-4815-efe4-7d89de8253af"
      },
      "source": [
        "pred[]"
      ],
      "execution_count": 37,
      "outputs": [
        {
          "output_type": "execute_result",
          "data": {
            "text/plain": [
              "array([], shape=(0, 10), dtype=float32)"
            ]
          },
          "metadata": {},
          "execution_count": 37
        }
      ]
    },
    {
      "cell_type": "code",
      "metadata": {
        "colab": {
          "base_uri": "https://localhost:8080/"
        },
        "id": "61NHz7KlxO4i",
        "outputId": "30b695f9-1934-4cc5-8346-118d218964a9"
      },
      "source": [
        "import numpy as np\n",
        "np.argmax(pred)"
      ],
      "execution_count": 39,
      "outputs": [
        {
          "output_type": "execute_result",
          "data": {
            "text/plain": [
              "5"
            ]
          },
          "metadata": {},
          "execution_count": 39
        }
      ]
    }
  ]
}